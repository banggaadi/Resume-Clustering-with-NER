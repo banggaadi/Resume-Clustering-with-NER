{
 "cells": [
  {
   "cell_type": "markdown",
   "id": "edc3c082-ef16-415b-aea6-2438cdd35b18",
   "metadata": {},
   "source": [
    "## Import Libraries"
   ]
  },
  {
   "cell_type": "code",
   "execution_count": 17,
   "id": "1af137e6-bc8f-40d8-81e9-2dcaa9b29a91",
   "metadata": {},
   "outputs": [],
   "source": [
    "from bs4 import BeautifulSoup\n",
    "import bs4\n",
    "import requests\n",
    "import time\n",
    "import pandas as pd\n",
    "import numpy as np\n",
    "import warnings\n",
    "warnings.filterwarnings(\"ignore\")"
   ]
  },
  {
   "cell_type": "code",
   "execution_count": 5,
   "id": "16799408-5b4b-4361-a707-076f84631cb8",
   "metadata": {},
   "outputs": [],
   "source": [
    "from selenium import webdriver\n",
    "from selenium.webdriver.chrome.service import Service as ChromeService\n",
    "from selenium.webdriver.chrome.options import Options\n",
    "from selenium.webdriver.common.by import By\n",
    "from webdriver_manager.chrome import ChromeDriverManager\n",
    "from selenium import webdriver\n",
    "from selenium_stealth import stealth"
   ]
  },
  {
   "cell_type": "markdown",
   "id": "9216d99e-eb95-4ad0-95ef-a32348c43459",
   "metadata": {},
   "source": [
    "## Start Webdriver (Bot)"
   ]
  },
  {
   "cell_type": "code",
   "execution_count": 7,
   "id": "bb720e0c-9bc4-4349-ab01-53e0bf104451",
   "metadata": {},
   "outputs": [],
   "source": [
    "options = webdriver.ChromeOptions()\n",
    "options.add_argument(\"start-maximized\")\n",
    "#options.add_argument(\"--headless\")\n",
    "options.add_experimental_option(\"excludeSwitches\", [\"enable-automation\"])\n",
    "options.add_experimental_option('useAutomationExtension', False)\n",
    "service = ChromeService(ChromeDriverManager().install())\n",
    "driver = webdriver.Chrome(options=options, service=service)\n",
    "\n",
    "stealth(driver,\n",
    "        languages=[\"en-US\", \"en\"],\n",
    "        vendor=\"Google Inc.\",\n",
    "        platform=\"Win32\",\n",
    "        webgl_vendor=\"Intel Inc.\",\n",
    "        renderer=\"Intel Iris OpenGL Engine\",\n",
    "        fix_hairline=True,\n",
    "        )\n",
    "\n",
    "driver.get(\"https://bot.sannysoft.com/\")"
   ]
  },
  {
   "cell_type": "markdown",
   "id": "534b98f8-faf1-42f0-bb8f-887ee61ddc06",
   "metadata": {},
   "source": [
    "## Innitialize Scrapping"
   ]
  },
  {
   "cell_type": "code",
   "execution_count": 8,
   "id": "1c501796-783a-4105-87ea-41a3c86f8116",
   "metadata": {},
   "outputs": [],
   "source": [
    "job_list = ['Information-Technology']"
   ]
  },
  {
   "cell_type": "code",
   "execution_count": 9,
   "id": "6c9bd963-3146-42d1-9288-adcc56b46f58",
   "metadata": {},
   "outputs": [],
   "source": [
    "resume_links = pd.DataFrame()\n",
    "category = []\n",
    "link = []\n",
    "last_updated_dates = []"
   ]
  },
  {
   "cell_type": "markdown",
   "id": "2b83c9b4-5e9f-4414-9061-f94433c1fe0c",
   "metadata": {},
   "source": [
    "## Get link for scrapping"
   ]
  },
  {
   "cell_type": "code",
   "execution_count": 10,
   "id": "2c83c42a-8efa-451c-8a4d-71f786517075",
   "metadata": {},
   "outputs": [],
   "source": [
    "for job in job_list:\n",
    "    JOB = job.lower()\n",
    "    for i in range(1,2):   # Jika ingin menambahkan jumlah page untuk di scrape, adjust rangenya\n",
    "        PAGE = str(i)\n",
    "        URL = \"https://www.livecareer.com/resume-search/search?jt=\" + JOB + \"&bg=85&eg=100&comp=&mod=&pg=\" + PAGE\n",
    "        driver.get(URL)\n",
    "        aTagsInLi = driver.find_elements(By.CSS_SELECTOR, 'a.sc-1dzblrg-0')\n",
    "        for a in aTagsInLi:\n",
    "            category.append(JOB)\n",
    "            link.append(a.get_attribute('href'))\n",
    "            last_updated_dates.append(a.find_elements(By.CLASS_NAME, 'last-updated')[0].text)"
   ]
  },
  {
   "cell_type": "code",
   "execution_count": 11,
   "id": "17bb6385-d51d-462c-b5c0-a78a9745bdd1",
   "metadata": {},
   "outputs": [],
   "source": [
    "resume_links[\"Category\"] = category\n",
    "resume_links[\"link\"] = link\n",
    "resume_links['last_updated'] = last_updated_dates"
   ]
  },
  {
   "cell_type": "code",
   "execution_count": 12,
   "id": "cb8643f5-5c5e-44e8-b26a-d3bfb716ca91",
   "metadata": {},
   "outputs": [
    {
     "data": {
      "text/html": [
       "<div>\n",
       "<style scoped>\n",
       "    .dataframe tbody tr th:only-of-type {\n",
       "        vertical-align: middle;\n",
       "    }\n",
       "\n",
       "    .dataframe tbody tr th {\n",
       "        vertical-align: top;\n",
       "    }\n",
       "\n",
       "    .dataframe thead th {\n",
       "        text-align: right;\n",
       "    }\n",
       "</style>\n",
       "<table border=\"1\" class=\"dataframe\">\n",
       "  <thead>\n",
       "    <tr style=\"text-align: right;\">\n",
       "      <th></th>\n",
       "      <th>Category</th>\n",
       "      <th>link</th>\n",
       "      <th>last_updated</th>\n",
       "    </tr>\n",
       "  </thead>\n",
       "  <tbody>\n",
       "    <tr>\n",
       "      <th>0</th>\n",
       "      <td>information-technology</td>\n",
       "      <td>https://www.livecareer.com/resume-search/r/inf...</td>\n",
       "      <td>Last Updated On August 11, 2022</td>\n",
       "    </tr>\n",
       "    <tr>\n",
       "      <th>1</th>\n",
       "      <td>information-technology</td>\n",
       "      <td>https://www.livecareer.com/resume-search/r/hea...</td>\n",
       "      <td>Last Updated On August 28, 2015</td>\n",
       "    </tr>\n",
       "    <tr>\n",
       "      <th>2</th>\n",
       "      <td>information-technology</td>\n",
       "      <td>https://www.livecareer.com/resume-search/r/inf...</td>\n",
       "      <td>Last Updated On June 1, 2015</td>\n",
       "    </tr>\n",
       "    <tr>\n",
       "      <th>3</th>\n",
       "      <td>information-technology</td>\n",
       "      <td>https://www.livecareer.com/resume-search/r/inf...</td>\n",
       "      <td>Last Updated On January 16, 2018</td>\n",
       "    </tr>\n",
       "    <tr>\n",
       "      <th>4</th>\n",
       "      <td>information-technology</td>\n",
       "      <td>https://www.livecareer.com/resume-search/r/inf...</td>\n",
       "      <td>Last Updated On October 2, 2015</td>\n",
       "    </tr>\n",
       "  </tbody>\n",
       "</table>\n",
       "</div>"
      ],
      "text/plain": [
       "                 Category                                               link  \\\n",
       "0  information-technology  https://www.livecareer.com/resume-search/r/inf...   \n",
       "1  information-technology  https://www.livecareer.com/resume-search/r/hea...   \n",
       "2  information-technology  https://www.livecareer.com/resume-search/r/inf...   \n",
       "3  information-technology  https://www.livecareer.com/resume-search/r/inf...   \n",
       "4  information-technology  https://www.livecareer.com/resume-search/r/inf...   \n",
       "\n",
       "                       last_updated  \n",
       "0   Last Updated On August 11, 2022  \n",
       "1   Last Updated On August 28, 2015  \n",
       "2      Last Updated On June 1, 2015  \n",
       "3  Last Updated On January 16, 2018  \n",
       "4   Last Updated On October 2, 2015  "
      ]
     },
     "execution_count": 12,
     "metadata": {},
     "output_type": "execute_result"
    }
   ],
   "source": [
    "resume_links.head()"
   ]
  },
  {
   "cell_type": "code",
   "execution_count": 13,
   "id": "a698cafd-ab66-4792-951b-99c618430cdd",
   "metadata": {},
   "outputs": [
    {
     "data": {
      "text/plain": [
       "Category\n",
       "information-technology    10\n",
       "Name: count, dtype: int64"
      ]
     },
     "execution_count": 13,
     "metadata": {},
     "output_type": "execute_result"
    }
   ],
   "source": [
    "import hashlib\n",
    "def id(x):\n",
    "    return int(hashlib.md5(x.encode('utf-8')).hexdigest(), 16)\n",
    "\n",
    "resume_links[\"id\"] = resume_links[\"link\"].apply(id)\n",
    "resume_links.Category.value_counts()"
   ]
  },
  {
   "cell_type": "markdown",
   "id": "e41cbd03-a7e6-4084-9bbe-c5852be6fc8c",
   "metadata": {},
   "source": [
    "## Get data from URL"
   ]
  },
  {
   "cell_type": "code",
   "execution_count": 14,
   "id": "ef8161ff-e0bb-4b1d-b4e1-8b333f2a7c65",
   "metadata": {},
   "outputs": [],
   "source": [
    "resume_links[\"Resume\"] = \"\"\n",
    "resume_links[\"Raw_html\"] = \"\""
   ]
  },
  {
   "cell_type": "code",
   "execution_count": 18,
   "id": "86b9bc53-5a38-4e16-813a-f0dbe8fbe399",
   "metadata": {},
   "outputs": [
    {
     "name": "stdout",
     "output_type": "stream",
     "text": [
      "##############################################\n",
      "##############################################\n",
      "##############################################\n",
      "##############################################\n",
      "##############################################\n",
      "##############################################\n",
      "##############################################\n",
      "##############################################\n",
      "##############################################\n",
      "##############################################\n"
     ]
    }
   ],
   "source": [
    "for i in range(resume_links.shape[0]):\n",
    "    url = resume_links.link[i]\n",
    "    driver.get(url)\n",
    "#    print(driver.get(url))\n",
    "#     time.sleep(0.5)                  #Untuk DELAY\n",
    "    x = driver.page_source\n",
    "    x = x.replace(\">\",\"> \")\n",
    "    soup = bs4.BeautifulSoup(x, 'html.parser')\n",
    "    div = soup.find(\"div\", {\"class\": \"document\"})\n",
    "    resume_links.Raw_html[i] = div\n",
    "    try:\n",
    "        print('##############################################')\n",
    "        resume_links.Resume[i] = div.text\n",
    "    \n",
    "    except:\n",
    "#         ADD EXCEPTION IF REQUIRED\n",
    "        pass"
   ]
  },
  {
   "cell_type": "code",
   "execution_count": 19,
   "id": "13f9e83b-eda3-4171-9bce-a96b78456544",
   "metadata": {},
   "outputs": [
    {
     "data": {
      "text/html": [
       "<div>\n",
       "<style scoped>\n",
       "    .dataframe tbody tr th:only-of-type {\n",
       "        vertical-align: middle;\n",
       "    }\n",
       "\n",
       "    .dataframe tbody tr th {\n",
       "        vertical-align: top;\n",
       "    }\n",
       "\n",
       "    .dataframe thead th {\n",
       "        text-align: right;\n",
       "    }\n",
       "</style>\n",
       "<table border=\"1\" class=\"dataframe\">\n",
       "  <thead>\n",
       "    <tr style=\"text-align: right;\">\n",
       "      <th></th>\n",
       "      <th>Category</th>\n",
       "      <th>link</th>\n",
       "      <th>last_updated</th>\n",
       "      <th>id</th>\n",
       "      <th>Resume</th>\n",
       "      <th>Raw_html</th>\n",
       "    </tr>\n",
       "  </thead>\n",
       "  <tbody>\n",
       "    <tr>\n",
       "      <th>0</th>\n",
       "      <td>information-technology</td>\n",
       "      <td>https://www.livecareer.com/resume-search/r/inf...</td>\n",
       "      <td>Last Updated On August 11, 2022</td>\n",
       "      <td>333384008044094492599850273825632969038</td>\n",
       "      <td>Jessica    Claire                   Mont...</td>\n",
       "      <td>[ , [ , [ , &lt;div&gt; &lt;div class=\"name\"&gt; &lt;span id=...</td>\n",
       "    </tr>\n",
       "    <tr>\n",
       "      <th>1</th>\n",
       "      <td>information-technology</td>\n",
       "      <td>https://www.livecareer.com/resume-search/r/hea...</td>\n",
       "      <td>Last Updated On August 28, 2015</td>\n",
       "      <td>213083561351819246707939832289245731177</td>\n",
       "      <td>JC        J  S  S      JS        ...</td>\n",
       "      <td>[ , [ , [ , &lt;div&gt; &lt;div class=\"monogram dynamic...</td>\n",
       "    </tr>\n",
       "    <tr>\n",
       "      <th>2</th>\n",
       "      <td>information-technology</td>\n",
       "      <td>https://www.livecareer.com/resume-search/r/inf...</td>\n",
       "      <td>Last Updated On June 1, 2015</td>\n",
       "      <td>57098340265376532323341018871583143087</td>\n",
       "      <td>Jessica    Claire                   Mont...</td>\n",
       "      <td>[ , [ , [ , &lt;div&gt; &lt;div class=\"name\"&gt; &lt;span id=...</td>\n",
       "    </tr>\n",
       "    <tr>\n",
       "      <th>3</th>\n",
       "      <td>information-technology</td>\n",
       "      <td>https://www.livecareer.com/resume-search/r/inf...</td>\n",
       "      <td>Last Updated On January 16, 2018</td>\n",
       "      <td>89622349158409716960668547833836774872</td>\n",
       "      <td>JC        J  S  S      JS        ...</td>\n",
       "      <td>[ , [ , [ , &lt;div&gt; &lt;div class=\"monogram dynamic...</td>\n",
       "    </tr>\n",
       "    <tr>\n",
       "      <th>4</th>\n",
       "      <td>information-technology</td>\n",
       "      <td>https://www.livecareer.com/resume-search/r/inf...</td>\n",
       "      <td>Last Updated On October 2, 2015</td>\n",
       "      <td>73408001750395583825917262865904570618</td>\n",
       "      <td>Jessica    Claire                   Mont...</td>\n",
       "      <td>[ , [ , [ , &lt;div&gt; &lt;div class=\"name\"&gt; &lt;span id=...</td>\n",
       "    </tr>\n",
       "  </tbody>\n",
       "</table>\n",
       "</div>"
      ],
      "text/plain": [
       "                 Category                                               link  \\\n",
       "0  information-technology  https://www.livecareer.com/resume-search/r/inf...   \n",
       "1  information-technology  https://www.livecareer.com/resume-search/r/hea...   \n",
       "2  information-technology  https://www.livecareer.com/resume-search/r/inf...   \n",
       "3  information-technology  https://www.livecareer.com/resume-search/r/inf...   \n",
       "4  information-technology  https://www.livecareer.com/resume-search/r/inf...   \n",
       "\n",
       "                       last_updated                                       id  \\\n",
       "0   Last Updated On August 11, 2022  333384008044094492599850273825632969038   \n",
       "1   Last Updated On August 28, 2015  213083561351819246707939832289245731177   \n",
       "2      Last Updated On June 1, 2015   57098340265376532323341018871583143087   \n",
       "3  Last Updated On January 16, 2018   89622349158409716960668547833836774872   \n",
       "4   Last Updated On October 2, 2015   73408001750395583825917262865904570618   \n",
       "\n",
       "                                              Resume  \\\n",
       "0        Jessica    Claire                   Mont...   \n",
       "1               JC        J  S  S      JS        ...   \n",
       "2        Jessica    Claire                   Mont...   \n",
       "3               JC        J  S  S      JS        ...   \n",
       "4        Jessica    Claire                   Mont...   \n",
       "\n",
       "                                            Raw_html  \n",
       "0  [ , [ , [ , <div> <div class=\"name\"> <span id=...  \n",
       "1  [ , [ , [ , <div> <div class=\"monogram dynamic...  \n",
       "2  [ , [ , [ , <div> <div class=\"name\"> <span id=...  \n",
       "3  [ , [ , [ , <div> <div class=\"monogram dynamic...  \n",
       "4  [ , [ , [ , <div> <div class=\"name\"> <span id=...  "
      ]
     },
     "execution_count": 19,
     "metadata": {},
     "output_type": "execute_result"
    }
   ],
   "source": [
    "resume_links.head()"
   ]
  },
  {
   "cell_type": "code",
   "execution_count": 25,
   "id": "77704e68-fa41-4698-86d8-ea99cd6df4fd",
   "metadata": {},
   "outputs": [],
   "source": [
    "df = pd.DataFrame(resume_links)\n",
    "df = df.drop(['link'], axis=1)"
   ]
  },
  {
   "cell_type": "code",
   "execution_count": 26,
   "id": "99130d92-72bf-4624-a84d-03c972fe6d8b",
   "metadata": {},
   "outputs": [
    {
     "data": {
      "text/plain": [
       "Category        0\n",
       "last_updated    0\n",
       "id              0\n",
       "Resume          0\n",
       "Raw_html        0\n",
       "dtype: int64"
      ]
     },
     "execution_count": 26,
     "metadata": {},
     "output_type": "execute_result"
    }
   ],
   "source": [
    "df.dropna(inplace=True)\n",
    "df.isnull().sum()"
   ]
  },
  {
   "cell_type": "code",
   "execution_count": 28,
   "id": "691ccafe-34bb-40c2-ac62-d44b2fbe9fee",
   "metadata": {},
   "outputs": [],
   "source": [
    "df['id'] = [str(x)[::5] for x in df['id']]"
   ]
  },
  {
   "cell_type": "code",
   "execution_count": 29,
   "id": "3e9157dd-1e06-4aab-9e0f-8e24b8f4b9b7",
   "metadata": {},
   "outputs": [
    {
     "data": {
      "text/html": [
       "<div>\n",
       "<style scoped>\n",
       "    .dataframe tbody tr th:only-of-type {\n",
       "        vertical-align: middle;\n",
       "    }\n",
       "\n",
       "    .dataframe tbody tr th {\n",
       "        vertical-align: top;\n",
       "    }\n",
       "\n",
       "    .dataframe thead th {\n",
       "        text-align: right;\n",
       "    }\n",
       "</style>\n",
       "<table border=\"1\" class=\"dataframe\">\n",
       "  <thead>\n",
       "    <tr style=\"text-align: right;\">\n",
       "      <th></th>\n",
       "      <th>Category</th>\n",
       "      <th>last_updated</th>\n",
       "      <th>id</th>\n",
       "      <th>Resume</th>\n",
       "      <th>Raw_html</th>\n",
       "    </tr>\n",
       "  </thead>\n",
       "  <tbody>\n",
       "    <tr>\n",
       "      <th>0</th>\n",
       "      <td>information-technology</td>\n",
       "      <td>Last Updated On August 11, 2022</td>\n",
       "      <td>34449769</td>\n",
       "      <td>Jessica    Claire                   Mont...</td>\n",
       "      <td>[ , [ , [ , &lt;div&gt; &lt;div class=\"name\"&gt; &lt;span id=...</td>\n",
       "    </tr>\n",
       "    <tr>\n",
       "      <th>1</th>\n",
       "      <td>information-technology</td>\n",
       "      <td>Last Updated On August 28, 2015</td>\n",
       "      <td>23527321</td>\n",
       "      <td>JC        J  S  S      JS        ...</td>\n",
       "      <td>[ , [ , [ , &lt;div&gt; &lt;div class=\"monogram dynamic...</td>\n",
       "    </tr>\n",
       "    <tr>\n",
       "      <th>2</th>\n",
       "      <td>information-technology</td>\n",
       "      <td>Last Updated On June 1, 2015</td>\n",
       "      <td>53533880</td>\n",
       "      <td>Jessica    Claire                   Mont...</td>\n",
       "      <td>[ , [ , [ , &lt;div&gt; &lt;div class=\"name\"&gt; &lt;span id=...</td>\n",
       "    </tr>\n",
       "    <tr>\n",
       "      <th>3</th>\n",
       "      <td>information-technology</td>\n",
       "      <td>Last Updated On January 16, 2018</td>\n",
       "      <td>83816738</td>\n",
       "      <td>JC        J  S  S      JS        ...</td>\n",
       "      <td>[ , [ , [ , &lt;div&gt; &lt;div class=\"monogram dynamic...</td>\n",
       "    </tr>\n",
       "    <tr>\n",
       "      <th>4</th>\n",
       "      <td>information-technology</td>\n",
       "      <td>Last Updated On October 2, 2015</td>\n",
       "      <td>70089206</td>\n",
       "      <td>Jessica    Claire                   Mont...</td>\n",
       "      <td>[ , [ , [ , &lt;div&gt; &lt;div class=\"name\"&gt; &lt;span id=...</td>\n",
       "    </tr>\n",
       "    <tr>\n",
       "      <th>5</th>\n",
       "      <td>information-technology</td>\n",
       "      <td>Last Updated On April 17, 2015</td>\n",
       "      <td>28126340</td>\n",
       "      <td>Jessica  Claire                       ...</td>\n",
       "      <td>[ , [ , [ , &lt;div class=\"section notdraggable s...</td>\n",
       "    </tr>\n",
       "    <tr>\n",
       "      <th>6</th>\n",
       "      <td>information-technology</td>\n",
       "      <td>Last Updated On February 16, 2021</td>\n",
       "      <td>13405733</td>\n",
       "      <td>Jessica    Claire                  ,    ...</td>\n",
       "      <td>[ , [ , [ , &lt;div&gt; &lt;div class=\"name\"&gt; &lt;span id=...</td>\n",
       "    </tr>\n",
       "    <tr>\n",
       "      <th>7</th>\n",
       "      <td>information-technology</td>\n",
       "      <td>Last Updated On July 27, 2015</td>\n",
       "      <td>27515255</td>\n",
       "      <td>JC        J  S  S      JS        ...</td>\n",
       "      <td>[ , [ , [ , &lt;div&gt; &lt;div class=\"monogram dynamic...</td>\n",
       "    </tr>\n",
       "    <tr>\n",
       "      <th>8</th>\n",
       "      <td>information-technology</td>\n",
       "      <td>Last Updated On November 20, 2017</td>\n",
       "      <td>16533554</td>\n",
       "      <td>Jessica    Claire                   Mont...</td>\n",
       "      <td>[ , [ , [ , &lt;div&gt; &lt;div class=\"name\"&gt; &lt;span id=...</td>\n",
       "    </tr>\n",
       "    <tr>\n",
       "      <th>9</th>\n",
       "      <td>information-technology</td>\n",
       "      <td>Last Updated On May 5, 2016</td>\n",
       "      <td>20001721</td>\n",
       "      <td>Jessica  Claire                       ...</td>\n",
       "      <td>[ , [ , [ , &lt;div class=\"section notdraggable s...</td>\n",
       "    </tr>\n",
       "  </tbody>\n",
       "</table>\n",
       "</div>"
      ],
      "text/plain": [
       "                 Category                       last_updated        id  \\\n",
       "0  information-technology    Last Updated On August 11, 2022  34449769   \n",
       "1  information-technology    Last Updated On August 28, 2015  23527321   \n",
       "2  information-technology       Last Updated On June 1, 2015  53533880   \n",
       "3  information-technology   Last Updated On January 16, 2018  83816738   \n",
       "4  information-technology    Last Updated On October 2, 2015  70089206   \n",
       "5  information-technology     Last Updated On April 17, 2015  28126340   \n",
       "6  information-technology  Last Updated On February 16, 2021  13405733   \n",
       "7  information-technology      Last Updated On July 27, 2015  27515255   \n",
       "8  information-technology  Last Updated On November 20, 2017  16533554   \n",
       "9  information-technology        Last Updated On May 5, 2016  20001721   \n",
       "\n",
       "                                              Resume  \\\n",
       "0        Jessica    Claire                   Mont...   \n",
       "1               JC        J  S  S      JS        ...   \n",
       "2        Jessica    Claire                   Mont...   \n",
       "3               JC        J  S  S      JS        ...   \n",
       "4        Jessica    Claire                   Mont...   \n",
       "5          Jessica  Claire                       ...   \n",
       "6        Jessica    Claire                  ,    ...   \n",
       "7               JC        J  S  S      JS        ...   \n",
       "8        Jessica    Claire                   Mont...   \n",
       "9          Jessica  Claire                       ...   \n",
       "\n",
       "                                            Raw_html  \n",
       "0  [ , [ , [ , <div> <div class=\"name\"> <span id=...  \n",
       "1  [ , [ , [ , <div> <div class=\"monogram dynamic...  \n",
       "2  [ , [ , [ , <div> <div class=\"name\"> <span id=...  \n",
       "3  [ , [ , [ , <div> <div class=\"monogram dynamic...  \n",
       "4  [ , [ , [ , <div> <div class=\"name\"> <span id=...  \n",
       "5  [ , [ , [ , <div class=\"section notdraggable s...  \n",
       "6  [ , [ , [ , <div> <div class=\"name\"> <span id=...  \n",
       "7  [ , [ , [ , <div> <div class=\"monogram dynamic...  \n",
       "8  [ , [ , [ , <div> <div class=\"name\"> <span id=...  \n",
       "9  [ , [ , [ , <div class=\"section notdraggable s...  "
      ]
     },
     "execution_count": 29,
     "metadata": {},
     "output_type": "execute_result"
    }
   ],
   "source": [
    "df"
   ]
  },
  {
   "cell_type": "code",
   "execution_count": 30,
   "id": "44d71534-8a36-40a2-a71e-d533a07c9436",
   "metadata": {},
   "outputs": [],
   "source": [
    "df = df[['id', 'Resume', 'Raw_html', 'Category']]\n",
    "df.columns = ['ID', 'Resume_str', 'Resume_html', 'Category']\n",
    "df.Category  = [x.upper() for x in df.Category]"
   ]
  },
  {
   "cell_type": "code",
   "execution_count": null,
   "id": "9b885636-9d22-4343-b481-21e1570ce72a",
   "metadata": {},
   "outputs": [],
   "source": [
    "resume_links.to_csv(\"Dataset.csv\",index=False)"
   ]
  },
  {
   "cell_type": "markdown",
   "id": "22900886-443f-4643-9e87-8f818a3302d3",
   "metadata": {},
   "source": [
    "## Convert to PDF"
   ]
  },
  {
   "cell_type": "code",
   "execution_count": null,
   "id": "cf08bae5-fba6-4b47-bfd7-63c6b3f0d533",
   "metadata": {},
   "outputs": [],
   "source": [
    "import pandas as pd\n",
    "import pdfkit \n",
    "import os"
   ]
  },
  {
   "cell_type": "code",
   "execution_count": null,
   "id": "57b09827-250c-46fc-b86f-b49b11b88292",
   "metadata": {},
   "outputs": [],
   "source": [
    "labels = df.Category.unique()\n",
    "parent_dir = \"./new/\""
   ]
  },
  {
   "cell_type": "code",
   "execution_count": null,
   "id": "f5475aff-051c-4feb-8a46-7bf185638996",
   "metadata": {},
   "outputs": [],
   "source": [
    "import os\n",
    "\n",
    "for label in labels:\n",
    "    temp = df[df.Category == label]\n",
    "    temp.dropna(inplace=True)\n",
    "    temp.reset_index(inplace=True, drop=True)\n",
    "    path = os.path.join(parent_dir, label)\n",
    "    mode = 0o666\n",
    "    if not os.path.exists(path): \n",
    "        os.makedirs(path, mode)\n",
    "    for i in range(temp.shape[0]):\n",
    "        pdfkit.from_string(temp.Resume_html[i], os.path.join(path, temp.ID[i] + \".pdf\"), configuration=pdfkit.configuration(wkhtmltopdf=r'C:\\Program Files\\wkhtmltopdf\\bin\\wkhtmltopdf.exe'))\n"
   ]
  }
 ],
 "metadata": {
  "kernelspec": {
   "display_name": "Python 3 (ipykernel)",
   "language": "python",
   "name": "python3"
  },
  "language_info": {
   "codemirror_mode": {
    "name": "ipython",
    "version": 3
   },
   "file_extension": ".py",
   "mimetype": "text/x-python",
   "name": "python",
   "nbconvert_exporter": "python",
   "pygments_lexer": "ipython3",
   "version": "3.10.14"
  }
 },
 "nbformat": 4,
 "nbformat_minor": 5
}
